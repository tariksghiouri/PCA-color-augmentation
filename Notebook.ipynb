{
 "cells": [
  {
   "cell_type": "markdown",
   "id": "37918fab",
   "metadata": {},
   "source": [
    "Step 1. Load the image(s) as a numpy array with (h, w, rgb) shape as integers between 0 to 255"
   ]
  },
  {
   "cell_type": "code",
   "execution_count": 1,
   "id": "819363fc",
   "metadata": {},
   "outputs": [],
   "source": [
    "from numpy import asarray\n",
    "from PIL import Image\n",
    "import numpy as np\n",
    "\n",
    "im = Image.open('targeted_contrast.jpg') #load image.jpg\n",
    "i_a = asarray(im) #convert image to array"
   ]
  },
  {
   "cell_type": "markdown",
   "id": "24b906b1",
   "metadata": {},
   "source": [
    "Step 2. Convert the range of pixel values from 0-255 to 0-1\n",
    "\n"
   ]
  },
  {
   "cell_type": "code",
   "execution_count": 2,
   "id": "99e999f4",
   "metadata": {},
   "outputs": [],
   "source": [
    "i_a = i_a / 255.0"
   ]
  },
  {
   "cell_type": "markdown",
   "id": "762af25e",
   "metadata": {},
   "source": [
    "Step 3. Flatten the image to columns of RGB (3 columns)\n",
    "\n",
    "Flattening the images merges all the layers (in this case, RGB layers) into one column each color channel."
   ]
  },
  {
   "cell_type": "code",
   "execution_count": 3,
   "id": "9d402583",
   "metadata": {},
   "outputs": [],
   "source": [
    "img_rs = i_a.reshape(-1, 3)\n"
   ]
  },
  {
   "cell_type": "markdown",
   "id": "6a28f5f9",
   "metadata": {},
   "source": [
    "Step 4. Centering the pixels around their mean\n",
    "\n"
   ]
  },
  {
   "cell_type": "code",
   "execution_count": 4,
   "id": "d9105691",
   "metadata": {},
   "outputs": [],
   "source": [
    "img_centered = img_rs - np.mean(img_rs, axis=0)\n"
   ]
  },
  {
   "cell_type": "markdown",
   "id": "e4d70515",
   "metadata": {},
   "source": [
    "Step 5. Calculate the 3x3 covariance matrix using numpy.cov. The parameter rowvar is set as False because each column represents a variable, while rows contain the values.\n",
    "\n"
   ]
  },
  {
   "cell_type": "code",
   "execution_count": 5,
   "id": "e9d566e2",
   "metadata": {},
   "outputs": [
    {
     "data": {
      "text/plain": [
       "array([[0.03288312, 0.03261066, 0.03402053],\n",
       "       [0.03261066, 0.0330318 , 0.03480445],\n",
       "       [0.03402053, 0.03480445, 0.0371824 ]])"
      ]
     },
     "execution_count": 5,
     "metadata": {},
     "output_type": "execute_result"
    }
   ],
   "source": [
    "img_cov = np.cov(img_centered, rowvar=False)\n",
    "img_cov"
   ]
  },
  {
   "cell_type": "markdown",
   "id": "cc6291db",
   "metadata": {},
   "source": [
    "Step 6. Calculate the eigenvalues (3x1 matrix) and eigenvectors (3x3 matrix) of the 3 x3 covariance matrix using numpy.linalg.eigh\n",
    "Then, sort the eigenvalues and eigenvectors\n",
    "\n",
    "\n"
   ]
  },
  {
   "cell_type": "code",
   "execution_count": 6,
   "id": "a90b57b8",
   "metadata": {},
   "outputs": [
    {
     "name": "stdout",
     "output_type": "stream",
     "text": [
      "eigenvectors : [[-0.56294314 -0.74576875  0.35626395]\n",
      " [-0.56839384  0.0363944  -0.82195127]\n",
      " [-0.60001955  0.66521006  0.44437834]]\n",
      "\n",
      "\n",
      "eigenvalues  : [1.02070722e-01 9.46086105e-04 8.05151156e-05]\n"
     ]
    }
   ],
   "source": [
    "eig_vals, eig_vecs = np.linalg.eigh(img_cov)\n",
    "sort_perm = eig_vals[::-1].argsort()\n",
    "eig_vals[::-1].sort()\n",
    "eig_vecs = eig_vecs[:, sort_perm]\n",
    "print(\"eigenvectors :\",eig_vecs)\n",
    "print('\\n')\n",
    "print(\"eigenvalues  :\", eig_vals)"
   ]
  },
  {
   "cell_type": "markdown",
   "id": "0814eeaf",
   "metadata": {},
   "source": [
    " get eigenvector matrix "
   ]
  },
  {
   "cell_type": "code",
   "execution_count": 7,
   "id": "ac9ce339",
   "metadata": {},
   "outputs": [
    {
     "data": {
      "text/plain": [
       "array([[-0.56294314, -0.56839384, -0.60001955],\n",
       "       [-0.74576875,  0.0363944 ,  0.66521006],\n",
       "       [ 0.35626395, -0.82195127,  0.44437834]])"
      ]
     },
     "execution_count": 7,
     "metadata": {},
     "output_type": "execute_result"
    }
   ],
   "source": [
    "m1 = np.column_stack((eig_vecs))\n",
    "m1"
   ]
  },
  {
   "cell_type": "markdown",
   "id": "3b4ab395",
   "metadata": {},
   "source": [
    "Step 7. Get a 3x1 matrix of eigenvalues multipled by a random variable drawn from a Gaussian distribution with mean=0 and sd=0.1 using numpy.random.normal\n",
    "\n"
   ]
  },
  {
   "cell_type": "code",
   "execution_count": 8,
   "id": "93db0cca",
   "metadata": {},
   "outputs": [
    {
     "name": "stdout",
     "output_type": "stream",
     "text": [
      "[[-1.06450114e-01]\n",
      " [-9.86678374e-04]\n",
      " [-8.39696544e-05]]\n",
      "Note: alpha should only be drawn once per augmentation (not once per channel) \n",
      "- alpha:  -1.0429054698135665\n"
     ]
    }
   ],
   "source": [
    "m2 = np.zeros((3, 1))\n",
    "alpha = np.random.normal(0, 0.5)  # Increase the magnitude of alpha\n",
    "m2[:, 0] = alpha * eig_vals[:]\n",
    "add_vect = np.dot(eig_vecs, m2)\n",
    "print(m2)\n",
    "\n",
    "print(\"Note: alpha should only be drawn once per augmentation (not once per channel) \\n- alpha: \", alpha)"
   ]
  },
  {
   "cell_type": "markdown",
   "id": "a560b3d4",
   "metadata": {},
   "source": [
    "Step 8. Create and add the vector (add_vect) that we're going to add to each pixel\n",
    "\n"
   ]
  },
  {
   "cell_type": "code",
   "execution_count": 9,
   "id": "d9c04739",
   "metadata": {},
   "outputs": [],
   "source": [
    "orig_img = i_a.reshape(im.size[1], im.size[0], 3).copy()\n",
    "\n"
   ]
  },
  {
   "cell_type": "code",
   "execution_count": 10,
   "id": "f1fe06dc",
   "metadata": {},
   "outputs": [],
   "source": [
    "# Step 8: Create and add the vector (add_vect) that we're going to add to each pixel\n",
    "# orig_img = i_a.reshape(im.size[1], im.size[0], 3).copy()\n",
    "\n",
    "# Apply the augmentation to the original image\n",
    "for idx in range(3):  # RGB\n",
    "    orig_img[..., idx] = np.clip(orig_img[..., idx] + add_vect[idx], 0, 1)\n",
    "\n",
    "# Ensure pixel values are in the valid range [0, 1]\n",
    "orig_img = np.clip(orig_img, 0, 1)\n",
    "\n",
    "# Convert back to the range [0, 255] for saving\n",
    "orig_img = (orig_img * 255).astype(np.uint8)\n",
    "\n",
    "# If you want to save the augmented image\n",
    "augmented_image = Image.fromarray(orig_img)\n",
    "augmented_image.save('augmented_image.jpg')"
   ]
  },
  {
   "cell_type": "code",
   "execution_count": null,
   "id": "78a38b7a",
   "metadata": {},
   "outputs": [],
   "source": [
    "import matplotlib.pyplot as plt\n",
    "\n",
    "# ... (Previous code remains unchanged)\n",
    "\n",
    "# If you want to save the augmented image\n",
    "augmented_image = Image.fromarray(orig_img)\n",
    "augmented_image.save('augmented_image.jpg')\n",
    "\n",
    "# Load the original and augmented images for histogram comparison\n",
    "original_image = Image.open('image.jpg')\n",
    "augmented_image = Image.open('augmented_image.jpg')\n",
    "\n",
    "# Plot the original and augmented images side by side with their RGB histograms\n",
    "fig, axes = plt.subplots(2, 2, figsize=(12, 8))\n",
    "\n",
    "# Plot Original Image\n",
    "axes[0, 0].imshow(original_image)\n",
    "axes[0, 0].set_title('Original Image')\n",
    "axes[0, 0].axis('off')\n",
    "\n",
    "# Plot Augmented Image\n",
    "axes[0, 1].imshow(augmented_image)\n",
    "axes[0, 1].set_title('Augmented Image')\n",
    "axes[0, 1].axis('off')\n",
    "\n",
    "# Plot RGB Histograms for Original Image\n",
    "for i in range(3):\n",
    "    axes[1, 0].hist(original_image.getdata(band=i), bins=64, range=[0, 256], alpha=0.5, label=f'Channel {i}', color=f'C{i}')\n",
    "\n",
    "axes[1, 0].set_title('RGB Histogram (Original)')\n",
    "axes[1, 0].legend()\n",
    "\n",
    "# Plot RGB Histograms for Augmented Image\n",
    "for i in range(3):\n",
    "    axes[1, 1].hist(augmented_image.getdata(band=i), bins=64, range=[0, 256], alpha=0.5, label=f'Channel {i}', color=f'C{i}')\n",
    "\n",
    "axes[1, 1].set_title('RGB Histogram (Augmented)')\n",
    "axes[1, 1].legend()\n",
    "\n",
    "# Show the plot\n",
    "plt.tight_layout()\n",
    "plt.show()\n"
   ]
  },
  {
   "cell_type": "code",
   "execution_count": null,
   "id": "26e5381c",
   "metadata": {},
   "outputs": [],
   "source": []
  }
 ],
 "metadata": {
  "kernelspec": {
   "display_name": "Python 3 (ipykernel)",
   "language": "python",
   "name": "python3"
  },
  "language_info": {
   "codemirror_mode": {
    "name": "ipython",
    "version": 3
   },
   "file_extension": ".py",
   "mimetype": "text/x-python",
   "name": "python",
   "nbconvert_exporter": "python",
   "pygments_lexer": "ipython3",
   "version": "3.9.13"
  }
 },
 "nbformat": 4,
 "nbformat_minor": 5
}
